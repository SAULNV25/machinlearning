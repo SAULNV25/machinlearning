{
 "cells": [
  {
   "cell_type": "markdown",
   "id": "00e7e411-29ea-4ee6-a54e-8fb61c022e76",
   "metadata": {},
   "source": [
    "# Limpieza de datos\n"
   ]
  },
  {
   "cell_type": "markdown",
   "id": "fc481f49-3324-4369-8038-a7b5b93aac7d",
   "metadata": {},
   "source": [
    "\n",
    "## 1. Vista rápida al dataset\n"
   ]
  },
  {
   "cell_type": "code",
   "execution_count": 7,
   "id": "b1fa2d45-ea07-4940-b76c-de21f1f4992d",
   "metadata": {},
   "outputs": [
    {
     "data": {
      "text/html": [
       "<div>\n",
       "<style scoped>\n",
       "    .dataframe tbody tr th:only-of-type {\n",
       "        vertical-align: middle;\n",
       "    }\n",
       "\n",
       "    .dataframe tbody tr th {\n",
       "        vertical-align: top;\n",
       "    }\n",
       "\n",
       "    .dataframe thead th {\n",
       "        text-align: right;\n",
       "    }\n",
       "</style>\n",
       "<table border=\"1\" class=\"dataframe\">\n",
       "  <thead>\n",
       "    <tr style=\"text-align: right;\">\n",
       "      <th></th>\n",
       "      <th>platform</th>\n",
       "      <th>release_date</th>\n",
       "      <th>summary</th>\n",
       "      <th>meta_score</th>\n",
       "      <th>user_review</th>\n",
       "    </tr>\n",
       "    <tr>\n",
       "      <th>name</th>\n",
       "      <th></th>\n",
       "      <th></th>\n",
       "      <th></th>\n",
       "      <th></th>\n",
       "      <th></th>\n",
       "    </tr>\n",
       "  </thead>\n",
       "  <tbody>\n",
       "    <tr>\n",
       "      <th>The Legend of Zelda: Ocarina of Time</th>\n",
       "      <td>Nintendo 64</td>\n",
       "      <td>November 23, 1998</td>\n",
       "      <td>As a young boy, Link is tricked by Ganondorf, ...</td>\n",
       "      <td>99</td>\n",
       "      <td>9.1</td>\n",
       "    </tr>\n",
       "    <tr>\n",
       "      <th>Tony Hawk's Pro Skater 2</th>\n",
       "      <td>PlayStation</td>\n",
       "      <td>September 20, 2000</td>\n",
       "      <td>As most major publishers' development efforts ...</td>\n",
       "      <td>98</td>\n",
       "      <td>7.4</td>\n",
       "    </tr>\n",
       "    <tr>\n",
       "      <th>Grand Theft Auto IV</th>\n",
       "      <td>PlayStation 3</td>\n",
       "      <td>April 29, 2008</td>\n",
       "      <td>[Metacritic's 2008 PS3 Game of the Year; Also ...</td>\n",
       "      <td>98</td>\n",
       "      <td>7.7</td>\n",
       "    </tr>\n",
       "    <tr>\n",
       "      <th>SoulCalibur</th>\n",
       "      <td>Dreamcast</td>\n",
       "      <td>September 8, 1999</td>\n",
       "      <td>This is a tale of souls and swords, transcendi...</td>\n",
       "      <td>98</td>\n",
       "      <td>8.4</td>\n",
       "    </tr>\n",
       "    <tr>\n",
       "      <th>Grand Theft Auto IV</th>\n",
       "      <td>Xbox 360</td>\n",
       "      <td>April 29, 2008</td>\n",
       "      <td>[Metacritic's 2008 Xbox 360 Game of the Year; ...</td>\n",
       "      <td>98</td>\n",
       "      <td>7.9</td>\n",
       "    </tr>\n",
       "    <tr>\n",
       "      <th>...</th>\n",
       "      <td>...</td>\n",
       "      <td>...</td>\n",
       "      <td>...</td>\n",
       "      <td>...</td>\n",
       "      <td>...</td>\n",
       "    </tr>\n",
       "    <tr>\n",
       "      <th>Street Fighter IV</th>\n",
       "      <td>PlayStation 3</td>\n",
       "      <td>February 17, 2009</td>\n",
       "      <td>Street Fighter IV features a mix of returning ...</td>\n",
       "      <td>94</td>\n",
       "      <td>7.4</td>\n",
       "    </tr>\n",
       "    <tr>\n",
       "      <th>Super Mario Advance 4: Super Mario Bros. 3</th>\n",
       "      <td>Game Boy Advance</td>\n",
       "      <td>October 21, 2003</td>\n",
       "      <td>A combination of exciting platforming action, ...</td>\n",
       "      <td>94</td>\n",
       "      <td>8.9</td>\n",
       "    </tr>\n",
       "    <tr>\n",
       "      <th>Jet Grind Radio</th>\n",
       "      <td>Dreamcast</td>\n",
       "      <td>October 30, 2000</td>\n",
       "      <td>Join a graffiti crew, stamp your territory and...</td>\n",
       "      <td>94</td>\n",
       "      <td>8.3</td>\n",
       "    </tr>\n",
       "    <tr>\n",
       "      <th>Metal Gear Solid</th>\n",
       "      <td>PlayStation</td>\n",
       "      <td>October 21, 1998</td>\n",
       "      <td>You are Snake, a government agent on a mission...</td>\n",
       "      <td>94</td>\n",
       "      <td>9.2</td>\n",
       "    </tr>\n",
       "    <tr>\n",
       "      <th>Grim Fandango</th>\n",
       "      <td>PC</td>\n",
       "      <td>October 14, 1998</td>\n",
       "      <td>Something's rotten in the Land of Dead and you...</td>\n",
       "      <td>94</td>\n",
       "      <td>9.1</td>\n",
       "    </tr>\n",
       "  </tbody>\n",
       "</table>\n",
       "<p>100 rows × 5 columns</p>\n",
       "</div>"
      ],
      "text/plain": [
       "                                                     platform  \\\n",
       "name                                                            \n",
       "The Legend of Zelda: Ocarina of Time              Nintendo 64   \n",
       "Tony Hawk's Pro Skater 2                          PlayStation   \n",
       "Grand Theft Auto IV                             PlayStation 3   \n",
       "SoulCalibur                                         Dreamcast   \n",
       "Grand Theft Auto IV                                  Xbox 360   \n",
       "...                                                       ...   \n",
       "Street Fighter IV                               PlayStation 3   \n",
       "Super Mario Advance 4: Super Mario Bros. 3   Game Boy Advance   \n",
       "Jet Grind Radio                                     Dreamcast   \n",
       "Metal Gear Solid                                  PlayStation   \n",
       "Grim Fandango                                              PC   \n",
       "\n",
       "                                                  release_date  \\\n",
       "name                                                             \n",
       "The Legend of Zelda: Ocarina of Time         November 23, 1998   \n",
       "Tony Hawk's Pro Skater 2                    September 20, 2000   \n",
       "Grand Theft Auto IV                             April 29, 2008   \n",
       "SoulCalibur                                  September 8, 1999   \n",
       "Grand Theft Auto IV                             April 29, 2008   \n",
       "...                                                        ...   \n",
       "Street Fighter IV                            February 17, 2009   \n",
       "Super Mario Advance 4: Super Mario Bros. 3    October 21, 2003   \n",
       "Jet Grind Radio                               October 30, 2000   \n",
       "Metal Gear Solid                              October 21, 1998   \n",
       "Grim Fandango                                 October 14, 1998   \n",
       "\n",
       "                                                                                      summary  \\\n",
       "name                                                                                            \n",
       "The Legend of Zelda: Ocarina of Time        As a young boy, Link is tricked by Ganondorf, ...   \n",
       "Tony Hawk's Pro Skater 2                    As most major publishers' development efforts ...   \n",
       "Grand Theft Auto IV                         [Metacritic's 2008 PS3 Game of the Year; Also ...   \n",
       "SoulCalibur                                 This is a tale of souls and swords, transcendi...   \n",
       "Grand Theft Auto IV                         [Metacritic's 2008 Xbox 360 Game of the Year; ...   \n",
       "...                                                                                       ...   \n",
       "Street Fighter IV                           Street Fighter IV features a mix of returning ...   \n",
       "Super Mario Advance 4: Super Mario Bros. 3  A combination of exciting platforming action, ...   \n",
       "Jet Grind Radio                             Join a graffiti crew, stamp your territory and...   \n",
       "Metal Gear Solid                            You are Snake, a government agent on a mission...   \n",
       "Grim Fandango                               Something's rotten in the Land of Dead and you...   \n",
       "\n",
       "                                            meta_score user_review  \n",
       "name                                                                \n",
       "The Legend of Zelda: Ocarina of Time                99         9.1  \n",
       "Tony Hawk's Pro Skater 2                            98         7.4  \n",
       "Grand Theft Auto IV                                 98         7.7  \n",
       "SoulCalibur                                         98         8.4  \n",
       "Grand Theft Auto IV                                 98         7.9  \n",
       "...                                                ...         ...  \n",
       "Street Fighter IV                                   94         7.4  \n",
       "Super Mario Advance 4: Super Mario Bros. 3          94         8.9  \n",
       "Jet Grind Radio                                     94         8.3  \n",
       "Metal Gear Solid                                    94         9.2  \n",
       "Grim Fandango                                       94         9.1  \n",
       "\n",
       "[100 rows x 5 columns]"
      ]
     },
     "execution_count": 7,
     "metadata": {},
     "output_type": "execute_result"
    }
   ],
   "source": [
    "import pandas as pd\n",
    "import matplotlib.pyplot as plt\n",
    "import seaborn as sns\n",
    "## MUESTO MI DATA SET CON LOS DATOS Y SUS COLUMNAS\n",
    "df = pd.read_csv(\"dataset_videojuegos.csv\", index_col=0) \n",
    "df.head(100)S\n"
   ]
  },
  {
   "cell_type": "code",
   "execution_count": 26,
   "id": "57a074ae-ffcc-41f3-a822-84ff5e67c7fc",
   "metadata": {},
   "outputs": [
    {
     "name": "stdout",
     "output_type": "stream",
     "text": [
      "                                   name        platform        release_date  \\\n",
      "0  The Legend of Zelda: Ocarina of Time     Nintendo 64   November 23, 1998   \n",
      "1              Tony Hawk's Pro Skater 2     PlayStation  September 20, 2000   \n",
      "2                   Grand Theft Auto IV   PlayStation 3      April 29, 2008   \n",
      "3                           SoulCalibur       Dreamcast   September 8, 1999   \n",
      "4                   Grand Theft Auto IV        Xbox 360      April 29, 2008   \n",
      "\n",
      "                                             summary  meta_score user_review  \n",
      "0  As a young boy, Link is tricked by Ganondorf, ...          99         9.1  \n",
      "1  As most major publishers' development efforts ...          98         7.4  \n",
      "2  [Metacritic's 2008 PS3 Game of the Year; Also ...          98         7.7  \n",
      "3  This is a tale of souls and swords, transcendi...          98         8.4  \n",
      "4  [Metacritic's 2008 Xbox 360 Game of the Year; ...          98         7.9  \n",
      "<class 'pandas.core.frame.DataFrame'>\n",
      "RangeIndex: 18800 entries, 0 to 18799\n",
      "Data columns (total 6 columns):\n",
      " #   Column        Non-Null Count  Dtype \n",
      "---  ------        --------------  ----- \n",
      " 0   name          18800 non-null  object\n",
      " 1   platform      18800 non-null  object\n",
      " 2   release_date  18800 non-null  object\n",
      " 3   summary       18686 non-null  object\n",
      " 4   meta_score    18800 non-null  int64 \n",
      " 5   user_review   18800 non-null  object\n",
      "dtypes: int64(1), object(5)\n",
      "memory usage: 881.4+ KB\n"
     ]
    },
    {
     "data": {
      "text/html": [
       "<div>\n",
       "<style scoped>\n",
       "    .dataframe tbody tr th:only-of-type {\n",
       "        vertical-align: middle;\n",
       "    }\n",
       "\n",
       "    .dataframe tbody tr th {\n",
       "        vertical-align: top;\n",
       "    }\n",
       "\n",
       "    .dataframe thead th {\n",
       "        text-align: right;\n",
       "    }\n",
       "</style>\n",
       "<table border=\"1\" class=\"dataframe\">\n",
       "  <thead>\n",
       "    <tr style=\"text-align: right;\">\n",
       "      <th></th>\n",
       "      <th>meta_score</th>\n",
       "    </tr>\n",
       "  </thead>\n",
       "  <tbody>\n",
       "    <tr>\n",
       "      <th>count</th>\n",
       "      <td>18800.000000</td>\n",
       "    </tr>\n",
       "    <tr>\n",
       "      <th>mean</th>\n",
       "      <td>70.648883</td>\n",
       "    </tr>\n",
       "    <tr>\n",
       "      <th>std</th>\n",
       "      <td>12.225006</td>\n",
       "    </tr>\n",
       "    <tr>\n",
       "      <th>min</th>\n",
       "      <td>20.000000</td>\n",
       "    </tr>\n",
       "    <tr>\n",
       "      <th>25%</th>\n",
       "      <td>64.000000</td>\n",
       "    </tr>\n",
       "    <tr>\n",
       "      <th>50%</th>\n",
       "      <td>72.000000</td>\n",
       "    </tr>\n",
       "    <tr>\n",
       "      <th>75%</th>\n",
       "      <td>80.000000</td>\n",
       "    </tr>\n",
       "    <tr>\n",
       "      <th>max</th>\n",
       "      <td>99.000000</td>\n",
       "    </tr>\n",
       "  </tbody>\n",
       "</table>\n",
       "</div>"
      ],
      "text/plain": [
       "         meta_score\n",
       "count  18800.000000\n",
       "mean      70.648883\n",
       "std       12.225006\n",
       "min       20.000000\n",
       "25%       64.000000\n",
       "50%       72.000000\n",
       "75%       80.000000\n",
       "max       99.000000"
      ]
     },
     "execution_count": 26,
     "metadata": {},
     "output_type": "execute_result"
    }
   ],
   "source": [
    "# Cargar el dataset\n",
    "df = pd.read_csv(\"dataset_videojuegos.csv\")\n",
    "\n",
    "# Mostrar las primeras filas para vista rápida\n",
    "print(df.head())\n",
    "\n",
    "# Mostrar información general\n",
    "df.info()\n",
    "\n",
    "# Mostrar estadísticas descriptivas\n",
    "df.describe()"
   ]
  },
  {
   "cell_type": "markdown",
   "id": "9f6beebb-62cd-48c4-ac4d-6b9ef1fb811b",
   "metadata": {},
   "source": [
    "#### A simple vista puedo ver que un juego se repite pero en diferente plataforma tambien creo que es mejor poner el release_date de texto a tipo data time\n"
   ]
  },
  {
   "cell_type": "code",
   "execution_count": 30,
   "id": "3f8614d2-3eaa-4aa4-956e-bb1f36913908",
   "metadata": {},
   "outputs": [
    {
     "name": "stdout",
     "output_type": "stream",
     "text": [
      "<class 'pandas.core.frame.DataFrame'>\n",
      "RangeIndex: 18800 entries, 0 to 18799\n",
      "Data columns (total 1 columns):\n",
      " #   Column        Non-Null Count  Dtype         \n",
      "---  ------        --------------  -----         \n",
      " 0   release_date  18800 non-null  datetime64[ns]\n",
      "dtypes: datetime64[ns](1)\n",
      "memory usage: 147.0 KB\n",
      "None\n",
      "0   1998-11-23\n",
      "1   2000-09-20\n",
      "2   2008-04-29\n",
      "3   1999-09-08\n",
      "4   2008-04-29\n",
      "Name: release_date, dtype: datetime64[ns]\n"
     ]
    }
   ],
   "source": [
    "## Convertir release_date a datetime, manejando errores\n",
    "df['release_date'] = pd.to_datetime(df['release_date'], errors='coerce')\n",
    "\n",
    "# Verificar cambios\n",
    "print(df[['release_date']].info())\n",
    "print(df['release_date'].head())"
   ]
  },
  {
   "cell_type": "code",
   "execution_count": 59,
   "id": "2b2076c5-c640-4468-a0c0-c09eda2309af",
   "metadata": {},
   "outputs": [
    {
     "name": "stdout",
     "output_type": "stream",
     "text": [
      "0\n",
      "Empty DataFrame\n",
      "Columns: [name, platform, release_date, summary, meta_score, user_review]\n",
      "Index: []\n"
     ]
    }
   ],
   "source": [
    "## EN ESTA PARTE VEO CUANTOS TIENE DE VALOR NaT\n",
    "print(df['release_date'].isna().sum())  # Cantidad de valores NaT\n",
    "print(df[df['release_date'].isna()].head(10))  # Muestra algunos registros problemáticos\n"
   ]
  },
  {
   "cell_type": "code",
   "execution_count": 32,
   "id": "42327d87-6bba-45a1-b00d-c0a4f5641529",
   "metadata": {},
   "outputs": [
    {
     "name": "stdout",
     "output_type": "stream",
     "text": [
      "['9.1' '7.4' '7.7' '8.4' '7.9' '8.0' '8.3' '6.2' '8.7' '7.5' '8.8' '8.5'\n",
      " '8.6' '8.9' '8.2' '9.2' '7.8' '9.0' '9.3' '8.1']\n"
     ]
    }
   ],
   "source": [
    "print(df['user_review'].unique()[:20])  # Muestra los primeros valores únicos\n"
   ]
  },
  {
   "cell_type": "code",
   "execution_count": 60,
   "id": "d4f49357-b3e9-41e1-9d0e-ef89d9a464a3",
   "metadata": {},
   "outputs": [
    {
     "name": "stdout",
     "output_type": "stream",
     "text": [
      "0\n"
     ]
    }
   ],
   "source": [
    "## Aqui si aparecen valores tbd los convertire en NaN y despus a float\n",
    "df['user_review'] = pd.to_numeric(df['user_review'], errors='coerce')\n",
    "\n",
    "# Verificar si hay NaN\n",
    "print(df['user_review'].isna().sum())\n"
   ]
  },
  {
   "cell_type": "code",
   "execution_count": 35,
   "id": "2a3ad45f-19f0-40f6-9d98-915fe6228ff8",
   "metadata": {},
   "outputs": [],
   "source": [
    "# Rellenar con la media de la columna\n",
    "df.loc[:, 'user_review'] = df['user_review'].fillna(df['user_review'].mean())"
   ]
  },
  {
   "cell_type": "code",
   "execution_count": 36,
   "id": "eea49ecc-64d9-4ae2-bbe1-884189b49dd0",
   "metadata": {},
   "outputs": [],
   "source": [
    "# Eliminar las filas con NaN\n",
    "df = df.dropna(subset=['user_review'])"
   ]
  },
  {
   "cell_type": "code",
   "execution_count": 37,
   "id": "178b663d-9a9c-4641-990a-5d54dcdb1150",
   "metadata": {},
   "outputs": [
    {
     "name": "stdout",
     "output_type": "stream",
     "text": [
      "0\n"
     ]
    }
   ],
   "source": [
    "print(df['user_review'].isna().sum())"
   ]
  },
  {
   "cell_type": "code",
   "execution_count": 38,
   "id": "284b701f-88c9-4aab-8c0b-2e384a64a4bf",
   "metadata": {},
   "outputs": [
    {
     "name": "stdout",
     "output_type": "stream",
     "text": [
      "         meta_score   user_review\n",
      "count  18800.000000  18800.000000\n",
      "mean      70.648883      6.990846\n",
      "std       12.225006      1.301561\n",
      "min       20.000000      0.200000\n",
      "25%       64.000000      6.400000\n",
      "50%       72.000000      7.200000\n",
      "75%       80.000000      7.900000\n",
      "max       99.000000      9.700000\n"
     ]
    }
   ],
   "source": [
    "print(df[['meta_score', 'user_review']].describe())\n"
   ]
  },
  {
   "cell_type": "markdown",
   "id": "54ec2643-72e6-45d0-bc97-8c79e6f0effe",
   "metadata": {},
   "source": [
    "## 2. Datos duplicados"
   ]
  },
  {
   "cell_type": "code",
   "execution_count": 12,
   "id": "1e55d913-7b53-4aac-b4d1-aba7219f2e27",
   "metadata": {},
   "outputs": [
    {
     "data": {
      "text/html": [
       "<div>\n",
       "<style scoped>\n",
       "    .dataframe tbody tr th:only-of-type {\n",
       "        vertical-align: middle;\n",
       "    }\n",
       "\n",
       "    .dataframe tbody tr th {\n",
       "        vertical-align: top;\n",
       "    }\n",
       "\n",
       "    .dataframe thead th {\n",
       "        text-align: right;\n",
       "    }\n",
       "</style>\n",
       "<table border=\"1\" class=\"dataframe\">\n",
       "  <thead>\n",
       "    <tr style=\"text-align: right;\">\n",
       "      <th></th>\n",
       "      <th>platform</th>\n",
       "      <th>release_date</th>\n",
       "      <th>summary</th>\n",
       "      <th>meta_score</th>\n",
       "      <th>user_review</th>\n",
       "    </tr>\n",
       "    <tr>\n",
       "      <th>name</th>\n",
       "      <th></th>\n",
       "      <th></th>\n",
       "      <th></th>\n",
       "      <th></th>\n",
       "      <th></th>\n",
       "    </tr>\n",
       "  </thead>\n",
       "  <tbody>\n",
       "    <tr>\n",
       "      <th>Pokemon Moon</th>\n",
       "      <td>3DS</td>\n",
       "      <td>November 18, 2016</td>\n",
       "      <td>Using Pokemon Bank, you'll be able to transfer...</td>\n",
       "      <td>87</td>\n",
       "      <td>7.6</td>\n",
       "    </tr>\n",
       "    <tr>\n",
       "      <th>Pokemon Black Version</th>\n",
       "      <td>DS</td>\n",
       "      <td>March 6, 2011</td>\n",
       "      <td>Pokémon Black Version and Pokémon White Versio...</td>\n",
       "      <td>87</td>\n",
       "      <td>7.7</td>\n",
       "    </tr>\n",
       "    <tr>\n",
       "      <th>Pokemon Sword</th>\n",
       "      <td>Switch</td>\n",
       "      <td>November 15, 2019</td>\n",
       "      <td>Pokémon Sword and Pokémon Shield are set in Ga...</td>\n",
       "      <td>80</td>\n",
       "      <td>4.6</td>\n",
       "    </tr>\n",
       "  </tbody>\n",
       "</table>\n",
       "</div>"
      ],
      "text/plain": [
       "                      platform       release_date  \\\n",
       "name                                                \n",
       "Pokemon Moon               3DS  November 18, 2016   \n",
       "Pokemon Black Version       DS      March 6, 2011   \n",
       "Pokemon Sword           Switch  November 15, 2019   \n",
       "\n",
       "                                                                 summary  \\\n",
       "name                                                                       \n",
       "Pokemon Moon           Using Pokemon Bank, you'll be able to transfer...   \n",
       "Pokemon Black Version  Pokémon Black Version and Pokémon White Versio...   \n",
       "Pokemon Sword          Pokémon Sword and Pokémon Shield are set in Ga...   \n",
       "\n",
       "                       meta_score user_review  \n",
       "name                                           \n",
       "Pokemon Moon                   87         7.6  \n",
       "Pokemon Black Version          87         7.7  \n",
       "Pokemon Sword                  80         4.6  "
      ]
     },
     "execution_count": 12,
     "metadata": {},
     "output_type": "execute_result"
    }
   ],
   "source": [
    "#Aqui veo las filas duplicadas en este caso son 3 y las voy a eliminar\n",
    "df[df.duplicated()]"
   ]
  },
  {
   "cell_type": "code",
   "execution_count": 27,
   "id": "1f7780a3-80dd-4ee9-aa25-62b3f08462fc",
   "metadata": {},
   "outputs": [],
   "source": [
    "#Eliminacion de las filas duplicadas\n",
    "df = df.drop_duplicates()\n"
   ]
  },
  {
   "cell_type": "code",
   "execution_count": 29,
   "id": "e67ad078-399e-4937-b0e1-16dd7f6ac3f3",
   "metadata": {},
   "outputs": [
    {
     "data": {
      "text/html": [
       "<div>\n",
       "<style scoped>\n",
       "    .dataframe tbody tr th:only-of-type {\n",
       "        vertical-align: middle;\n",
       "    }\n",
       "\n",
       "    .dataframe tbody tr th {\n",
       "        vertical-align: top;\n",
       "    }\n",
       "\n",
       "    .dataframe thead th {\n",
       "        text-align: right;\n",
       "    }\n",
       "</style>\n",
       "<table border=\"1\" class=\"dataframe\">\n",
       "  <thead>\n",
       "    <tr style=\"text-align: right;\">\n",
       "      <th></th>\n",
       "      <th>name</th>\n",
       "      <th>platform</th>\n",
       "      <th>release_date</th>\n",
       "      <th>summary</th>\n",
       "      <th>meta_score</th>\n",
       "      <th>user_review</th>\n",
       "    </tr>\n",
       "  </thead>\n",
       "  <tbody>\n",
       "  </tbody>\n",
       "</table>\n",
       "</div>"
      ],
      "text/plain": [
       "Empty DataFrame\n",
       "Columns: [name, platform, release_date, summary, meta_score, user_review]\n",
       "Index: []"
      ]
     },
     "execution_count": 29,
     "metadata": {},
     "output_type": "execute_result"
    }
   ],
   "source": [
    "#Aqui verifico que efectivamente se alla borrado las filas duplicadas\n",
    "df[df.duplicated()]"
   ]
  },
  {
   "cell_type": "code",
   "execution_count": 39,
   "id": "bab11f98-3756-4788-9fa0-2e17c53ab33b",
   "metadata": {},
   "outputs": [
    {
     "name": "stdout",
     "output_type": "stream",
     "text": [
      "Duplicados en el dataset: 0\n"
     ]
    }
   ],
   "source": [
    "print(\"Duplicados en el dataset:\", df.duplicated().sum())"
   ]
  },
  {
   "cell_type": "markdown",
   "id": "03419878-6bf1-4628-972b-31f40880d3fb",
   "metadata": {},
   "source": [
    "## 3. Datos nulos\n",
    "Muestre por columnas la cantidad de datos nulos, implemente una estrategia para no dejar ningun dato nulo, no elimine ningún dato.\n"
   ]
  },
  {
   "cell_type": "code",
   "execution_count": 15,
   "id": "3cbc5cb1-2e77-41b6-b9dc-ef98ead792d6",
   "metadata": {},
   "outputs": [
    {
     "name": "stdout",
     "output_type": "stream",
     "text": [
      "Cantidad de datos nulos por columna:\n",
      "name            0\n",
      "platform        0\n",
      "release_date    0\n",
      "summary         0\n",
      "meta_score      0\n",
      "user_review     0\n",
      "dtype: int64\n",
      "\n",
      "Después del tratamiento de datos nulos:\n",
      "name            0\n",
      "platform        0\n",
      "release_date    0\n",
      "summary         0\n",
      "meta_score      0\n",
      "user_review     0\n",
      "dtype: int64\n"
     ]
    }
   ],
   "source": [
    "# Mostrar la cantidad de datos nulos por columna\n",
    "print(\"Cantidad de datos nulos por columna:\")\n",
    "print(df.isnull().sum())\n",
    "\n",
    "# Estrategia para llenar datos nulos\n",
    "# Para la columna 'summary' (tipo texto), rellenamos con 'No summary available'\n",
    "df['summary'] = df['summary'].fillna('No summary available')\n",
    "\n",
    "# Verificar nuevamente si quedan datos nulos\n",
    "print(\"\\nDespués del tratamiento de datos nulos:\")\n",
    "print(df.isnull().sum())\n"
   ]
  },
  {
   "cell_type": "markdown",
   "id": "9d1d1d85-e735-41af-a295-4231280c8a31",
   "metadata": {},
   "source": [
    "## 4. Verifique outlaiers de cada fila"
   ]
  },
  {
   "cell_type": "code",
   "execution_count": 40,
   "id": "c2fd96dc-714c-4a7a-aab3-a220147a2801",
   "metadata": {},
   "outputs": [
    {
     "name": "stdout",
     "output_type": "stream",
     "text": [
      "Outliers en meta_score: 358\n",
      "Outliers en user_review: 775\n",
      "                                   name        platform release_date  \\\n",
      "265         Out of the Park Baseball 17              PC   2016-03-22   \n",
      "336           Tiger Woods PGA Tour 2005              PC   2004-09-20   \n",
      "753      Call of Duty: Modern Warfare 3        Xbox 360   2011-11-08   \n",
      "901                          Diablo III              PC   2012-05-15   \n",
      "917      Call of Duty: Modern Warfare 3   PlayStation 3   2011-11-08   \n",
      "1239  LostWinds: Winter of the Melodias             Wii   2009-10-19   \n",
      "1442                   Mortal Kombat 11        Xbox One   2019-04-23   \n",
      "1534                            F1 2021              PC   2021-07-16   \n",
      "1583                             NHL 20        Xbox One   2019-09-10   \n",
      "1625          Call of Duty: Black Ops 4        Xbox One   2018-10-12   \n",
      "\n",
      "                                                summary  meta_score  \\\n",
      "265   Step into the shoes of a team owner, GM, and/o...          92   \n",
      "336   TigerProofing is a revolutionary course-alteri...          91   \n",
      "753   Call of Duty: Modern Warfare 3 is a direct seq...          88   \n",
      "901   Diablo III picks up the story twenty years aft...          88   \n",
      "917   Call of Duty: Modern Warfare 3 is a direct seq...          88   \n",
      "1239  [WiiWare World] The follow-up to last year's W...          86   \n",
      "1442  Mortal Kombat is back and better than ever in ...          86   \n",
      "1534  Every story has a beginning in F1® 2021, the o...          86   \n",
      "1583  EA SPORTS NHL 20 introduces cutting-edge gamep...          85   \n",
      "1625  Black Ops returns - in your face. Featuring gr...          85   \n",
      "\n",
      "      user_review  \n",
      "265           3.3  \n",
      "336           3.8  \n",
      "753           3.5  \n",
      "901           4.1  \n",
      "917           3.3  \n",
      "1239          3.3  \n",
      "1442          3.3  \n",
      "1534          3.1  \n",
      "1583          4.1  \n",
      "1625          4.1  \n"
     ]
    }
   ],
   "source": [
    "def detectar_outliers(columna):\n",
    "    Q1 = columna.quantile(0.25)\n",
    "    Q3 = columna.quantile(0.75)\n",
    "    IQR = Q3 - Q1\n",
    "    limite_inferior = Q1 - 1.5 * IQR\n",
    "    limite_superior = Q3 + 1.5 * IQR\n",
    "    return (columna < limite_inferior) | (columna > limite_superior)\n",
    "\n",
    "# Detectar outliers en ambas columnas\n",
    "outliers_meta_score = detectar_outliers(df['meta_score'])\n",
    "outliers_user_review = detectar_outliers(df['user_review'])\n",
    "\n",
    "# Contar cuántos hay\n",
    "print(\"Outliers en meta_score:\", outliers_meta_score.sum())\n",
    "print(\"Outliers en user_review:\", outliers_user_review.sum())\n",
    "\n",
    "# Mostrar algunas filas con outliers\n",
    "df_outliers = df[outliers_meta_score | outliers_user_review]\n",
    "print(df_outliers.head(10))"
   ]
  },
  {
   "cell_type": "code",
   "execution_count": 46,
   "id": "bb226386-0f36-4124-88d2-b55716a5f6ff",
   "metadata": {},
   "outputs": [
    {
     "name": "stdout",
     "output_type": "stream",
     "text": [
      "Nueva cantidad de datos después de eliminar outliers: 17843\n"
     ]
    },
    {
     "name": "stderr",
     "output_type": "stream",
     "text": [
      "C:\\Users\\sauln.LAPTOP-1JCJTJBV\\AppData\\Local\\Temp\\ipykernel_9004\\535035919.py:2: UserWarning: Boolean Series key will be reindexed to match DataFrame index.\n",
      "  df = df[~(outliers_meta_score | outliers_user_review)]\n"
     ]
    }
   ],
   "source": [
    "## para eliminarlos\n",
    "df = df[~(outliers_meta_score | outliers_user_review)]\n",
    "# Como ya elimine los outliers los muestro para corroborar\n",
    "print(\"Nueva cantidad de datos después de eliminar outliers:\", df.shape[0])"
   ]
  },
  {
   "cell_type": "markdown",
   "id": "4093d435-76e3-49ea-beb3-b5ff8db8f51c",
   "metadata": {},
   "source": [
    "## 4.1 Datos numéricos"
   ]
  },
  {
   "cell_type": "code",
   "execution_count": 47,
   "id": "9e707569-8a29-41d5-a652-27d8aef55b9c",
   "metadata": {},
   "outputs": [
    {
     "name": "stdout",
     "output_type": "stream",
     "text": [
      "         meta_score   user_review\n",
      "count  17843.000000  17843.000000\n",
      "mean      71.674158      7.170731\n",
      "std       11.008749      1.029785\n",
      "min       40.000000      4.200000\n",
      "25%       65.000000      6.600000\n",
      "50%       73.000000      7.300000\n",
      "75%       80.000000      7.900000\n",
      "max       99.000000      9.700000\n"
     ]
    }
   ],
   "source": [
    "# Vizualizacion de los datos numericos\n",
    "print(df[['meta_score', 'user_review']].describe())\n"
   ]
  },
  {
   "cell_type": "code",
   "execution_count": 49,
   "id": "8c333ffb-ffea-4d12-bd73-bd3d59430763",
   "metadata": {},
   "outputs": [
    {
     "data": {
      "image/png": "[encoded data removed]",
      "text/plain": [
       "<Figure size 1200x500 with 2 Axes>"
      ]
     },
     "metadata": {},
     "output_type": "display_data"
    }
   ],
   "source": [
    "# Vizualizacion de la distribucion de los datos\n",
    "import matplotlib.pyplot as plt\n",
    "\n",
    "# Histogramas de meta_score y user_review\n",
    "fig, axes = plt.subplots(1, 2, figsize=(12, 5))\n",
    "\n",
    "axes[0].hist(df['meta_score'], bins=20, color='blue', edgecolor='black')\n",
    "axes[0].set_title('Distribución de Meta Score')\n",
    "axes[0].set_xlabel('Meta Score')\n",
    "axes[0].set_ylabel('Frecuencia')\n",
    "\n",
    "axes[1].hist(df['user_review'], bins=20, color='green', edgecolor='black')\n",
    "axes[1].set_title('Distribución de User Review')\n",
    "axes[1].set_xlabel('User Review')\n",
    "axes[1].set_ylabel('Frecuencia')\n",
    "\n",
    "plt.tight_layout()\n",
    "plt.show()\n"
   ]
  },
  {
   "cell_type": "markdown",
   "id": "df7285ed-1c14-4805-b6fe-99c52ee6c307",
   "metadata": {},
   "source": [
    "#### Observaciones, pues a lo que observo no veo ningun resultado o rango fuero de lo normal todo corresponde y gracias a la eliminacion de los outlaires\n"
   ]
  },
  {
   "cell_type": "markdown",
   "id": "130c11d0-6374-4656-99c6-1403099f22e8",
   "metadata": {},
   "source": [
    "## 4.2 Datos categóricos"
   ]
  },
  {
   "cell_type": "code",
   "execution_count": 58,
   "id": "50547681-c47f-4a7e-8adf-097e4ffa183e",
   "metadata": {},
   "outputs": [
    {
     "name": "stdout",
     "output_type": "stream",
     "text": [
      "Plataformas únicas: 22\n",
      "Años únicos: 27\n"
     ]
    }
   ],
   "source": [
    "## primero veo cuántas categorías hay en cada columna:\n",
    "print(\"Plataformas únicas:\", df['platform'].nunique())\n",
    "print(\"Años únicos:\", df['release_date'].dt.year.nunique())"
   ]
  },
  {
   "cell_type": "code",
   "execution_count": 56,
   "id": "361a5901-7366-4bf4-b539-bf30a2af7e88",
   "metadata": {},
   "outputs": [
    {
     "data": {
      "image/png": "[encoded data removed]",
      "text/plain": [
       "<Figure size 1200x500 with 1 Axes>"
      ]
     },
     "metadata": {},
     "output_type": "display_data"
    }
   ],
   "source": [
    "# creo tabla par ver mejor los datos y ver si tengo algo fuera de lo normal\n",
    "import seaborn as sns\n",
    "import matplotlib.pyplot as plt\n",
    "\n",
    "plt.figure(figsize=(12, 5))\n",
    "sns.countplot(y=df['platform'], hue=df['platform'], order=df['platform'].value_counts().index, legend=False, palette=\"coolwarm\")\n",
    "plt.title(\"Distribución de juegos por plataforma\")\n",
    "plt.xlabel(\"Cantidad de juegos\")\n",
    "plt.ylabel(\"Plataforma\")\n",
    "plt.show()\n"
   ]
  },
  {
   "cell_type": "code",
   "execution_count": 57,
   "id": "d5080aa2-634b-4e90-83a9-063e90cc9d56",
   "metadata": {},
   "outputs": [
    {
     "data": {
      "image/png": "[encoded data removed]",
      "text/plain": [
       "<Figure size 1200x500 with 1 Axes>"
      ]
     },
     "metadata": {},
     "output_type": "display_data"
    }
   ],
   "source": [
    "## Cree una tabla para vizualzacr mejor los datos categoricos y ver si tengo algo que haga ruido\n",
    "plt.figure(figsize=(12, 5))\n",
    "sns.countplot(x=df['release_date'].dt.year, hue=df['release_date'].dt.year, legend=False, palette=\"viridis\")\n",
    "plt.title(\"Cantidad de juegos lanzados por año\")\n",
    "plt.xlabel(\"Año\")\n",
    "plt.ylabel(\"Cantidad de juegos\")\n",
    "plt.xticks(rotation=45)\n",
    "plt.show()\n"
   ]
  },
  {
   "cell_type": "markdown",
   "id": "b26ff420-61fa-4011-99c2-059a91d8a4ba",
   "metadata": {},
   "source": [
    "### TODO EN ORDEN CON DATOS REALES Y CORREGI ANTERIONMENTE ALGUNOS TIPOS DE DATOS COMO EL DATA TIME"
   ]
  },
  {
   "cell_type": "code",
   "execution_count": null,
   "id": "28bcef63-3f1d-47b0-81bb-ca09e5c290b5",
   "metadata": {},
   "outputs": [],
   "source": []
  }
 ],
 "metadata": {
  "kernelspec": {
   "display_name": "Python 3 (ipykernel)",
   "language": "python",
   "name": "python3"
  },
  "language_info": {
   "codemirror_mode": {
    "name": "ipython",
    "version": 3
   },
   "file_extension": ".py",
   "mimetype": "text/x-python",
   "name": "python",
   "nbconvert_exporter": "python",
   "pygments_lexer": "ipython3",
   "version": "3.12.7"
  }
 },
 "nbformat": 4,
 "nbformat_minor": 5
}
