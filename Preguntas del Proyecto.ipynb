{
 "cells": [
  {
   "cell_type": "markdown",
   "id": "a3592867-d9c0-4f30-b096-fcdf1d3ba639",
   "metadata": {},
   "source": [
    "### Nuestro proyecto es de una IA capaz de hacer preguntas y analisar las respuestas del entrevistado, donde al mismo tiempo analiza sus comportamientos faciales.\n",
    "\n",
    "\n",
    "\n",
    "## 1. ¿Qué problema se quiere resolver?\n",
    "Se busca ayudar a los candidatos a mejorar su lenguaje no verbal en entrevistas de trabajo, específicamente sus expresiones faciales. Muchas personas no son conscientes de cómo sus gestos pueden influir en la percepción del entrevistador. Este módulo permitirá analizar sus expresiones en tiempo real y proporcionar retroalimentación para mejorar su presentación. Otro uso que se puede dar es para el comercio, vendiendolo asi a empresas para tener una IA capaz de entrevistar a personas sin la nececidad de recursos humanos.\n",
    "\n",
    "## 2. ¿Tienes datos suficientes y de calidad?\n",
    "Para entrenar un modelo que detecte expresiones faciales correctamente, se necesitan datos etiquetados de rostros con diferentes emociones (alegría, tristeza, enojo, sorpresa, neutral, etc.).\n",
    "\n",
    "Fuentes posibles de datos:\n",
    "Bases de datos abiertas como FER2013, CK+, o AffectNet.\n",
    "Generación propia de datos mediante capturas de video de entrevistas simuladas.\n",
    "Uso de modelos preentrenados como MediaPipe Face Mesh o DeepFace para complementar la detección.\n",
    "\n",
    "## 3. ¿Qué métrica indicará el éxito del modelo?\n",
    "El éxito del modelo se puede medir con:\n",
    "\n",
    "Precisión (Accuracy): Qué tan bien detecta y clasifica las expresiones faciales.\n",
    "F1-Score: Para equilibrar precisión y sensibilidad en la detección de emociones.\n",
    "Tiempo de inferencia: Debe ser rápido para que la retroalimentación sea en tiempo real (idealmente <100ms por cuadro).\n",
    "Validación con usuarios: Comparar los resultados del modelo con la percepción humana en entrevistas simuladas."
   ]
  },
  {
   "cell_type": "code",
   "execution_count": null,
   "id": "fa0ddbd6-61f7-4750-8e38-ffcb0cdbd6fb",
   "metadata": {},
   "outputs": [],
   "source": []
  }
 ],
 "metadata": {
  "kernelspec": {
   "display_name": "Python 3 (ipykernel)",
   "language": "python",
   "name": "python3"
  },
  "language_info": {
   "codemirror_mode": {
    "name": "ipython",
    "version": 3
   },
   "file_extension": ".py",
   "mimetype": "text/x-python",
   "name": "python",
   "nbconvert_exporter": "python",
   "pygments_lexer": "ipython3",
   "version": "3.12.7"
  }
 },
 "nbformat": 4,
 "nbformat_minor": 5
}
