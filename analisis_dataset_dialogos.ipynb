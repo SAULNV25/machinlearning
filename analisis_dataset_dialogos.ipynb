{
 "cells": [
  {
   "cell_type": "code",
   "execution_count": 19,
   "id": "7f1dca13-7010-4516-9e2e-dd15ecf016d2",
   "metadata": {},
   "outputs": [
    {
     "name": "stdout",
     "output_type": "stream",
     "text": [
      "<class 'pandas.core.frame.DataFrame'>\n",
      "RangeIndex: 155507 entries, 0 to 155506\n",
      "Data columns (total 4 columns):\n",
      " #   Column      Non-Null Count   Dtype \n",
      "---  ------      --------------   ----- \n",
      " 0   Unnamed: 0  155507 non-null  int64 \n",
      " 1   speaker     155507 non-null  object\n",
      " 2   dialog      155507 non-null  object\n",
      " 3   length      155507 non-null  int64 \n",
      "dtypes: int64(2), object(2)\n",
      "memory usage: 4.7+ MB\n"
     ]
    },
    {
     "data": {
      "text/plain": [
       "(   Unnamed: 0 speaker                                             dialog  \\\n",
       " 0           0    amlo    Amigas, amigos, paisanas, paisanos de Palenque:   \n",
       " 1           1    amlo  Me da mucho gusto estar de nuevo en trabajos d...   \n",
       " 2           2    amlo  Antes de entrar en materia, quiero enviar un s...   \n",
       " 3           3    amlo  Di la instrucción de que se mantengan trabajan...   \n",
       " 4           4    amlo  Quiero decirles a mis paisanos que padecen, qu...   \n",
       " \n",
       "    length  \n",
       " 0      47  \n",
       " 1      91  \n",
       " 2     471  \n",
       " 3     338  \n",
       " 4     113  ,\n",
       " None)"
      ]
     },
     "execution_count": 19,
     "metadata": {},
     "output_type": "execute_result"
    }
   ],
   "source": [
    "import pandas as pd\n",
    "\n",
    "df = pd.read_csv(\"dataset_dialogos.csv\")\n",
    "df.head(), df.info()\n"
   ]
  },
  {
   "cell_type": "markdown",
   "id": "e59784b3-6f28-46ab-8b85-cde66b911e87",
   "metadata": {},
   "source": [
    "#### Tiene 155,507 registros y 4 columnas: Unnamed: 0 , donde es un índice redundante por lo cual es mejor eliminar la columna Unnamed: 0, ya que parece un índice innecesario, despues voy a darle una revisada a los valores únicos en speaker para verificar si hay inconsistencias en los nombres y tambien buscar valores nulos o duplicados en dialog."
   ]
  },
  {
   "cell_type": "code",
   "execution_count": 21,
   "id": "33d8dd10-c7ce-4316-a900-3b74be2b47a0",
   "metadata": {},
   "outputs": [
    {
     "data": {
      "text/plain": [
       "(<bound method Series.unique of 0         amlo\n",
       " 1         amlo\n",
       " 2         amlo\n",
       " 3         amlo\n",
       " 4         amlo\n",
       "           ... \n",
       " 155502    amlo\n",
       " 155503    amlo\n",
       " 155504    amlo\n",
       " 155505    amlo\n",
       " 155506    amlo\n",
       " Name: speaker, Length: 155507, dtype: object>,\n",
       " 7446,\n",
       " count    155507.000000\n",
       " mean        232.972509\n",
       " std         153.822345\n",
       " min           2.000000\n",
       " 25%         112.000000\n",
       " 50%         222.000000\n",
       " 75%         329.000000\n",
       " max        1208.000000\n",
       " Name: length, dtype: float64)"
      ]
     },
     "execution_count": 21,
     "metadata": {},
     "output_type": "execute_result"
    }
   ],
   "source": [
    "# Revisar valores únicos en 'speaker'\n",
    "unique_speakers = df['speaker'].unique\n",
    "\n",
    "# Contar diálogos duplicados\n",
    "duplicated_dialogs = df.duplicated(subset=['dialog']).sum()\n",
    "\n",
    "# Estadísticas de la longitud del diálogo\n",
    "length_stats = df['length'].describe()\n",
    "\n",
    "# Mostrar resultados\n",
    "unique_speakers, duplicated_dialogs, length_stats"
   ]
  },
  {
   "cell_type": "markdown",
   "id": "35da765e-3606-4ef8-abd8-5bf36c5dcccd",
   "metadata": {},
   "source": [
    "## Segun al anilisis y En GENERAL LO QUE SE IDENTIFICO DE ESTE DATA SET FUE LO SIGUIENTE:\n",
    "### Revisión de valores en la columna 'speaker'\n",
    "### Se identificaron solo dos valores únicos: 'amlo' y 'lopez-gatell', lo cual es consistente con el dataset.\n",
    "### Se encontraron diálogos duplicados\n",
    "### Se detectaron 7,446 diálogos repetidos dentro del dataset.\n",
    "### Se observó que algunos diálogos tienen solo 2 caracteres, lo que puede ser ruido o errores de transcripción."
   ]
  },
  {
   "cell_type": "code",
   "execution_count": null,
   "id": "ffd6aaf0-8be4-4991-8154-e9651ca5bc57",
   "metadata": {},
   "outputs": [],
   "source": []
  }
 ],
 "metadata": {
  "kernelspec": {
   "display_name": "Python [conda env:base] *",
   "language": "python",
   "name": "conda-base-py"
  },
  "language_info": {
   "codemirror_mode": {
    "name": "ipython",
    "version": 3
   },
   "file_extension": ".py",
   "mimetype": "text/x-python",
   "name": "python",
   "nbconvert_exporter": "python",
   "pygments_lexer": "ipython3",
   "version": "3.12.7"
  }
 },
 "nbformat": 4,
 "nbformat_minor": 5
}
